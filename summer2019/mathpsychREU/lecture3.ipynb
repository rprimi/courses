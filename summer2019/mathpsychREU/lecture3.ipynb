{
  "nbformat": 4,
  "nbformat_minor": 0,
  "metadata": {
    "colab": {
      "name": "lecture3.ipynb",
      "version": "0.3.2",
      "provenance": [],
      "collapsed_sections": [],
      "include_colab_link": true
    },
    "kernelspec": {
      "name": "python3",
      "display_name": "Python 3"
    }
  },
  "cells": [
    {
      "cell_type": "markdown",
      "metadata": {
        "id": "view-in-github",
        "colab_type": "text"
      },
      "source": [
        "<a href=\"https://colab.research.google.com/github/tomfaulkenberry/courses/blob/master/summer2019/mathpsychREU/lecture3.ipynb\" target=\"_parent\"><img src=\"https://colab.research.google.com/assets/colab-badge.svg\" alt=\"Open In Colab\"/></a>"
      ]
    },
    {
      "cell_type": "markdown",
      "metadata": {
        "id": "oEFXQAo1069O",
        "colab_type": "text"
      },
      "source": [
        "# Lecture 3 - Fitting a \"forgetting curve\"\n",
        "\n",
        "Recall from last time...\n",
        "\n",
        "Murdock (1961) presented subjects with a set of memory items (i.e., words or letters) and asked them to recall the items after six different retention intervals: $t=1,3,6,9,12,18$ (in seconds).  He recorded the proportion recalled at each retention interval (based on 100 independent trials for each $t$). These data were (respectively)\n",
        "\n",
        "$$\n",
        "y=0.94, 0.77, 0.40, 0.26, 0.24, 0.16\n",
        "$$\n",
        "\n",
        "Last time, we fit a *power function* to these data"
      ]
    },
    {
      "cell_type": "markdown",
      "metadata": {
        "id": "XB8jNbDz4ZLn",
        "colab_type": "text"
      },
      "source": [
        "## Power function"
      ]
    },
    {
      "cell_type": "code",
      "metadata": {
        "id": "6HlS9agjrypv",
        "colab_type": "code",
        "outputId": "d16ea064-33bb-464b-9053-52c496e41eba",
        "colab": {
          "base_uri": "https://localhost:8080/",
          "height": 317
        }
      },
      "source": [
        "import matplotlib.pyplot as plt\n",
        "import numpy as np\n",
        "from scipy.optimize import minimize\n",
        "\n",
        "# assign data to arrays\n",
        "T = np.array([1, 3, 6, 9, 12, 18])\n",
        "Y = np.array([0.94, 0.77, 0.40, 0.26, 0.24, 0.16])\n",
        "X = 100*Y\n",
        "\n",
        "# plot raw data\n",
        "plt.plot(T, Y, 'o')\n",
        "plt.xlabel('Retention interval (sec.)')\n",
        "plt.ylabel('Proportion recalled')\n",
        "\n",
        "\n",
        "# negative log likelihood\n",
        "def nllP(pars):\n",
        "  a, b = pars\n",
        "  tmp1 = X*np.log(a*T**b) \n",
        "  tmp2 = (100-X)*np.log(1-a*T**b)\n",
        "  return(-1*np.sum(tmp1+tmp2))\n",
        "\n",
        "# minimize the NLL\n",
        "a_init = np.random.uniform()\n",
        "b_init = -np.random.uniform()\n",
        "inits = np.array([a_init, b_init])\n",
        "\n",
        "mleP = minimize(nllP, \n",
        "               inits,\n",
        "               method=\"nelder-mead\")\n",
        "\n",
        "# \n",
        "def power(t,pars):\n",
        "  a, b = pars\n",
        "  return(a*t**b)\n",
        "\n",
        "fitParsP = mleP.x\n",
        "\n",
        "print(f\"a={fitParsP[0]:.3f}, b={fitParsP[1]:.3f}\")\n",
        "\n",
        "x = np.linspace(0.5,18,100)\n",
        "plt.plot(x, power(x,fitParsP))\n",
        "\n",
        "plt.show()"
      ],
      "execution_count": 7,
      "outputs": [
        {
          "output_type": "stream",
          "text": [
            "/usr/local/lib/python3.6/dist-packages/ipykernel_launcher.py:20: RuntimeWarning: invalid value encountered in log\n"
          ],
          "name": "stderr"
        },
        {
          "output_type": "stream",
          "text": [
            "a=0.953, b=-0.498\n"
          ],
          "name": "stdout"
        },
        {
          "output_type": "display_data",
          "data": {
            "image/png": "[encoded data removed]",
            "text/plain": [
              "<Figure size 432x288 with 1 Axes>"
            ]
          },
          "metadata": {
            "tags": []
          }
        }
      ]
    },
    {
      "cell_type": "markdown",
      "metadata": {
        "id": "vxjTCx3C5IoZ",
        "colab_type": "text"
      },
      "source": [
        "# Exponential model\n",
        "\n",
        "Last time we proposed two candidate models:\n",
        "\n",
        "*   Power function model: $y=ax^b$\n",
        "*   Exponential model: $y=ab^x$\n",
        "\n",
        "Let's now fit an exponential model.\n",
        "\n",
        "\n"
      ]
    },
    {
      "cell_type": "markdown",
      "metadata": {
        "id": "gSH5Pi2_Ho7-",
        "colab_type": "text"
      },
      "source": [
        "## Step 1 - compute likelihood function\n",
        "\n",
        "Let's assume each of these 100 trials is independent of the others, and consider each trial a *success* if item is correctly recalled.\n",
        "\n",
        "Then the probability of correctly recalling $x$ items is:\n",
        "\n",
        "$$\n",
        "f(x\\mid\\theta) = \\binom{100}{x}\\theta^x(1-\\theta)^{100-x}\n",
        "$$\n",
        "\n",
        "The critical parameter here is $\\theta$ -- the probability of success on any *one* trial.  How do we determine $\\theta$?\n",
        "\n",
        "Let's assume that probability of recall is governed by a **exponential function**.  That is, assume\n",
        "\n",
        "$$\n",
        "\\theta(t) = ab^t\n",
        "$$\n",
        "\n",
        "for constants $a,b$.\n",
        "\n",
        "Then we can write\n",
        "$$\n",
        "f(x,t\\mid a,b) = \\binom{100}{x}(ab^t)^x(1-ab^t)^{100-x}\n",
        "$$\n",
        "\n",
        "which we cast as a likelihood\n",
        "\n",
        "$$\n",
        "L(a,b\\mid x,t) = \\binom{100}{x}(ab^t)^x(1-ab^t)^{100-x}\n",
        "$$\n"
      ]
    },
    {
      "cell_type": "markdown",
      "metadata": {
        "id": "BREYCezeJnwK",
        "colab_type": "text"
      },
      "source": [
        "### Step 2 -- compute log likelihood\n",
        "\n",
        "This gives us:\n",
        "\n",
        "$$\n",
        "\\ln L = \\ln \\Biggl[ \\binom{100}{x}\\Biggr] + x\\ln(ab^t) + (100-x)\\ln(1-ab^t)\n",
        "$$"
      ]
    },
    {
      "cell_type": "markdown",
      "metadata": {
        "id": "dipz_c0iLQc1",
        "colab_type": "text"
      },
      "source": [
        "### Step 3 -- extend to multiple observations\n",
        "\n",
        "Note that the formula above is for a *single* observation $(x,t)$.  But we have 6 observations!\n",
        "\n",
        "If we assume each is independent from the others, then we can multiply the likelihoods:\n",
        "\n",
        "$$\n",
        "L = \\prod_{i=1}^6 L(a,b\\mid x_i, t_i)\n",
        "$$\n",
        "\n",
        "Thus we have\n",
        "\n",
        "$$\n",
        "\\ln L = \\ln\\Biggl(\\prod_{i=1}^6 L(a,b\\mid x_i,t_i)\\Biggr )\n",
        "$$\n",
        "\n",
        "But since logs turn products into sums, we can write\n",
        "\n",
        "$$ \\ln L = \\sum_{i=1}^6 \\ln L(a,b\\mid x_i,t_i) = \\sum_{i=1}^6 \\Biggl(\\ln \\binom{100}{x_i} + x_i\\ln(ab^{t_i}) + (100-x_i)\\ln(1-ab^{t_i})\\Biggr)$$\n",
        "\n",
        "As before, we'll ignore the binomial term in our code\n"
      ]
    },
    {
      "cell_type": "code",
      "metadata": {
        "id": "Bq7uCTOQtMLj",
        "colab_type": "code",
        "colab": {}
      },
      "source": [
        "def nllE(pars):\n",
        "  a, b = pars\n",
        "  tmp1 = X*np.log(a*b**T) \n",
        "  tmp2 = (100-X)*np.log(1-a*b**T)\n",
        "  return(-1*np.sum(tmp1+tmp2))"
      ],
      "execution_count": 0,
      "outputs": []
    },
    {
      "cell_type": "code",
      "metadata": {
        "id": "9oWELP1O_Ezp",
        "colab_type": "code",
        "outputId": "1bc81f85-968a-4f1b-a35c-503cbb5050cc",
        "colab": {
          "base_uri": "https://localhost:8080/",
          "height": 34
        }
      },
      "source": [
        "# check some examples\n",
        "\n",
        "a = 0.6\n",
        "b = 0.1\n",
        "pars = np.array([a,b])\n",
        "\n",
        "nllE(pars)"
      ],
      "execution_count": 0,
      "outputs": [
        {
          "output_type": "execute_result",
          "data": {
            "text/plain": [
              "3307.9382932584135"
            ]
          },
          "metadata": {
            "tags": []
          },
          "execution_count": 7
        }
      ]
    },
    {
      "cell_type": "code",
      "metadata": {
        "id": "a-ffE9Di_Wfh",
        "colab_type": "code",
        "outputId": "bd86e646-5a9b-442b-f017-0d74de9b2f73",
        "colab": {
          "base_uri": "https://localhost:8080/",
          "height": 221
        }
      },
      "source": [
        "a_init = np.random.uniform()\n",
        "b_init = np.random.uniform()\n",
        "inits = np.array([a_init, b_init])\n",
        "\n",
        "mleE= minimize(nllE, \n",
        "               inits,\n",
        "               method=\"nelder-mead\")\n",
        "print(mleE)"
      ],
      "execution_count": 0,
      "outputs": [
        {
          "output_type": "stream",
          "text": [
            " final_simplex: (array([[1.07009661, 0.87736461],\n",
            "       [1.0700406 , 0.87738291],\n",
            "       [1.07017111, 0.87737349]]), array([305.30556818, 305.30556975, 305.30557091]))\n",
            "           fun: 305.3055681817654\n",
            "       message: 'Optimization terminated successfully.'\n",
            "          nfev: 85\n",
            "           nit: 43\n",
            "        status: 0\n",
            "       success: True\n",
            "             x: array([1.07009661, 0.87736461])\n"
          ],
          "name": "stdout"
        },
        {
          "output_type": "stream",
          "text": [
            "/usr/local/lib/python3.6/dist-packages/ipykernel_launcher.py:4: RuntimeWarning: invalid value encountered in log\n",
            "  after removing the cwd from sys.path.\n"
          ],
          "name": "stderr"
        }
      ]
    },
    {
      "cell_type": "code",
      "metadata": {
        "id": "awB1EgVdDbdz",
        "colab_type": "code",
        "outputId": "ba6c501d-aa59-4468-afa6-b9ea4e17258a",
        "colab": {
          "base_uri": "https://localhost:8080/",
          "height": 286
        }
      },
      "source": [
        "def expon(t,pars):\n",
        "  a, b = pars\n",
        "  return(a*b**t)\n",
        "\n",
        "fitParsE = mleE.x\n",
        "print(f\"a={fitPars[0]:.3f}, b={fitPars[1]:.3f}\")\n",
        "\n",
        "x = np.linspace(0.5,18,100)\n",
        "plt.plot(T,Y,'o')\n",
        "plt.plot(x, expon(x,fitParsE))\n",
        "\n",
        "plt.show()\n",
        "      "
      ],
      "execution_count": 0,
      "outputs": [
        {
          "output_type": "stream",
          "text": [
            "a=1.070, b=0.877\n"
          ],
          "name": "stdout"
        },
        {
          "output_type": "display_data",
          "data": {
            "image/png": "[encoded data removed]",
            "text/plain": [
              "<Figure size 432x288 with 1 Axes>"
            ]
          },
          "metadata": {
            "tags": []
          }
        }
      ]
    },
    {
      "cell_type": "markdown",
      "metadata": {
        "id": "wQvUwk8JOxY2",
        "colab_type": "text"
      },
      "source": [
        "## Look at both fits together\n",
        "\n",
        "Which is better?\n"
      ]
    },
    {
      "cell_type": "code",
      "metadata": {
        "id": "8khV8wpKO2OV",
        "colab_type": "code",
        "outputId": "25ae1083-5629-422a-adb9-e1da8088b0e7",
        "colab": {
          "base_uri": "https://localhost:8080/",
          "height": 269
        }
      },
      "source": [
        "plt.plot(T,Y,'o')\n",
        "plt.plot(x, power(x,fitParsP), color='red', label='Power')\n",
        "plt.plot(x, expon(x,fitParsE), color='blue', label='Exponential')\n",
        "plt.legend()\n",
        "\n",
        "plt.show()"
      ],
      "execution_count": 0,
      "outputs": [
        {
          "output_type": "display_data",
          "data": {
            "image/png": "[encoded data removed]",
            "text/plain": [
              "<Figure size 432x288 with 1 Axes>"
            ]
          },
          "metadata": {
            "tags": []
          }
        }
      ]
    },
    {
      "cell_type": "markdown",
      "metadata": {
        "id": "5WHhnNMkWkjN",
        "colab_type": "text"
      },
      "source": [
        "## Exercises\n",
        "\n",
        "1. Just like last time, we often see cognitive models written in different forms.  For example, Kahana and Adler (2002) present the exponential model for forgetting as $f(t)=ae^{-bt}$.  Using the same Murdock data, find maximum likelihood estimates for $a$ and $b$.  How does this result compare to the estimates we derived in class?\n",
        "\n",
        "2. Construct an exponential model for the Rubin and Baddeley data from Lecture 2 (exercise 3).  Compare the fit to the power function model obtained previously.  Which do you think is a better fit?  Why?"
      ]
    }
  ]
}