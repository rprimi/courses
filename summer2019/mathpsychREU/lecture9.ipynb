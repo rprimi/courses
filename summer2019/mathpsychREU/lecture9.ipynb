{
  "nbformat": 4,
  "nbformat_minor": 0,
  "metadata": {
    "colab": {
      "name": "lecture9.ipynb",
      "version": "0.3.2",
      "provenance": [],
      "collapsed_sections": [],
      "include_colab_link": true
    },
    "kernelspec": {
      "name": "python3",
      "display_name": "Python 3"
    }
  },
  "cells": [
    {
      "cell_type": "markdown",
      "metadata": {
        "id": "view-in-github",
        "colab_type": "text"
      },
      "source": [
        "<a href=\"https://colab.research.google.com/github/tomfaulkenberry/courses/blob/master/summer2019/mathpsychREU/lecture9.ipynb\" target=\"_parent\"><img src=\"https://colab.research.google.com/assets/colab-badge.svg\" alt=\"Open In Colab\"/></a>"
      ]
    },
    {
      "cell_type": "code",
      "metadata": {
        "id": "-I2iBQkIKQqe",
        "colab_type": "code",
        "colab": {}
      },
      "source": [
        "# Lecture 9 - parameter recovery\n",
        "\n",
        "\n",
        "import numpy as np\n",
        "import matplotlib.pyplot as plt"
      ],
      "execution_count": 0,
      "outputs": []
    },
    {
      "cell_type": "code",
      "metadata": {
        "id": "MQ5W0SMFP09C",
        "colab_type": "code",
        "outputId": "5c275c41-26f0-4be8-c951-9aa11d8130b4",
        "colab": {
          "base_uri": "https://localhost:8080/",
          "height": 286
        }
      },
      "source": [
        "# prior for mean\n",
        "\n",
        "from scipy.stats import norm\n",
        "\n",
        "means = norm.rvs(size=1000, loc=800, scale=50)\n",
        "\n",
        "plt.hist(means, bins=30)\n",
        "plt.show()\n",
        "print(means.mean())"
      ],
      "execution_count": 0,
      "outputs": [
        {
          "output_type": "display_data",
          "data": {
            "image/png": "[encoded data removed]",
            "text/plain": [
              "<Figure size 432x288 with 1 Axes>"
            ]
          },
          "metadata": {
            "tags": []
          }
        },
        {
          "output_type": "stream",
          "text": [
            "799.8054294857203\n"
          ],
          "name": "stdout"
        }
      ]
    },
    {
      "cell_type": "code",
      "metadata": {
        "id": "BftJ7_v8QZTk",
        "colab_type": "code",
        "outputId": "51060514-6d63-41c1-ae2a-1d28a588d023",
        "colab": {
          "base_uri": "https://localhost:8080/",
          "height": 286
        }
      },
      "source": [
        "# prior for variance\n",
        "from scipy.stats import invgamma\n",
        "\n",
        "var = invgamma.rvs(size=1000, a=5, scale=200000)\n",
        "\n",
        "plt.hist(var, bins=30)\n",
        "plt.show()\n",
        "\n",
        "print(var.mean())\n"
      ],
      "execution_count": 0,
      "outputs": [
        {
          "output_type": "display_data",
          "data": {
            "image/png": "[encoded data removed]",
            "text/plain": [
              "<Figure size 432x288 with 1 Axes>"
            ]
          },
          "metadata": {
            "tags": []
          }
        },
        {
          "output_type": "stream",
          "text": [
            "50568.751852751404\n"
          ],
          "name": "stdout"
        }
      ]
    },
    {
      "cell_type": "code",
      "metadata": {
        "id": "pLPQ1mz2QPD1",
        "colab_type": "code",
        "outputId": "4362b983-eabc-4ed3-8344-a5fdbb2a5aea",
        "colab": {
          "base_uri": "https://localhost:8080/",
          "height": 286
        }
      },
      "source": [
        "# prior for tau\n",
        "\n",
        "tau = invgamma.rvs(size=1000, a=3, scale=400)\n",
        "\n",
        "plt.hist(tau, bins=30)\n",
        "plt.show()\n",
        "\n",
        "print(tau.mean())"
      ],
      "execution_count": 0,
      "outputs": [
        {
          "output_type": "display_data",
          "data": {
            "image/png": "[encoded data removed]",
            "text/plain": [
              "<Figure size 432x288 with 1 Axes>"
            ]
          },
          "metadata": {
            "tags": []
          }
        },
        {
          "output_type": "stream",
          "text": [
            "195.67618829379225\n"
          ],
          "name": "stdout"
        }
      ]
    },
    {
      "cell_type": "code",
      "metadata": {
        "id": "FT-2ENNZQLsx",
        "colab_type": "code",
        "colab": {}
      },
      "source": [
        "# generate an \"experiment\"\n",
        "\n",
        "p = 50 # subjects\n",
        "n = 100 # trials per subject\n",
        "\n",
        "# empty array to store RTs\n",
        "RT = np.zeros((p, n))\n",
        "\n",
        "# empty array to store parameters\n",
        "pars = np.zeros((p,3))\n",
        "\n",
        "# generate rows of exGaussian params for each subject\n",
        "for i in range(p):\n",
        "  pars[i,0] = norm.rvs(size=1, loc=800, scale=50) # values of mu\n",
        "  pars[i,1] = np.sqrt(invgamma.rvs(size=1, a=5, scale=200000))  # values for sigma\n",
        "  pars[i,2] = invgamma.rvs(size=1, a=3, scale=400) # values for tau\n",
        "  \n",
        "# generate RTs from ex-Gaussian distributions defined by rows of \"pars\"\n",
        "from scipy.stats import exponnorm\n",
        "\n",
        "for i in range(p):\n",
        "  mu = pars[i,0]\n",
        "  sigma = pars[i,1]\n",
        "  tau = pars[i,2]\n",
        "  RT[i,:] = exponnorm.rvs(size=n, loc=mu, scale=sigma, K=tau/sigma)\n",
        "  "
      ],
      "execution_count": 0,
      "outputs": []
    },
    {
      "cell_type": "code",
      "metadata": {
        "id": "7hLSFXGsU8PC",
        "colab_type": "code",
        "outputId": "29350314-9578-4729-f3fe-801094873919",
        "colab": {
          "base_uri": "https://localhost:8080/",
          "height": 34
        }
      },
      "source": [
        "RT.shape"
      ],
      "execution_count": 0,
      "outputs": [
        {
          "output_type": "execute_result",
          "data": {
            "text/plain": [
              "(50, 100)"
            ]
          },
          "metadata": {
            "tags": []
          },
          "execution_count": 7
        }
      ]
    },
    {
      "cell_type": "code",
      "metadata": {
        "id": "PljpKgtJU8wt",
        "colab_type": "code",
        "outputId": "b4bf756f-d51c-4b8b-9982-24590597c81e",
        "colab": {
          "base_uri": "https://localhost:8080/",
          "height": 269
        }
      },
      "source": [
        "# plot some RT distributions to see the generated data\n",
        "\n",
        "subject=2 # change subject number to see different plot\n",
        "plt.hist(RT[subject,:], bins=20)\n",
        "plt.show()\n"
      ],
      "execution_count": 0,
      "outputs": [
        {
          "output_type": "display_data",
          "data": {
            "image/png": "[encoded data removed]",
            "text/plain": [
              "<Figure size 432x288 with 1 Axes>"
            ]
          },
          "metadata": {
            "tags": []
          }
        }
      ]
    },
    {
      "cell_type": "code",
      "metadata": {
        "id": "a3yDWT7GbfQn",
        "colab_type": "code",
        "colab": {}
      },
      "source": [
        "# next steps:\n",
        "# \n",
        "# 1. define \"fitEG\" function (we did this in earlier code)\n",
        "# 2. apply fitEG function to each row of the RT array - should output fitted values of mu, sigma, and tau\n",
        "# 3. store each fitted tuple (mu, sigma, tau) into an array called \"fits\""
      ],
      "execution_count": 0,
      "outputs": []
    }
  ]
}