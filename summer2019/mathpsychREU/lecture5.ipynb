{
  "nbformat": 4,
  "nbformat_minor": 0,
  "metadata": {
    "colab": {
      "name": "lecture5.ipynb",
      "version": "0.3.2",
      "provenance": [],
      "collapsed_sections": [],
      "include_colab_link": true
    },
    "kernelspec": {
      "name": "python3",
      "display_name": "Python 3"
    }
  },
  "cells": [
    {
      "cell_type": "markdown",
      "metadata": {
        "id": "view-in-github",
        "colab_type": "text"
      },
      "source": [
        "<a href=\"https://colab.research.google.com/github/tomfaulkenberry/courses/blob/master/summer2019/mathpsychREU/lecture5.ipynb\" target=\"_parent\"><img src=\"https://colab.research.google.com/assets/colab-badge.svg\" alt=\"Open In Colab\"/></a>"
      ]
    },
    {
      "cell_type": "code",
      "metadata": {
        "id": "AjHLn3zXQbPZ",
        "colab_type": "code",
        "colab": {}
      },
      "source": [
        "# Lecture 5 -- Parametric Bootstrapping\n",
        "\n",
        "\n",
        "import numpy as np\n",
        "from scipy.optimize import minimize"
      ],
      "execution_count": 0,
      "outputs": []
    },
    {
      "cell_type": "code",
      "metadata": {
        "id": "QN3OpX4oTxv0",
        "colab_type": "code",
        "colab": {}
      },
      "source": [
        "# recall our Murdock (1961) forgetting data\n",
        "\n",
        "T = np.array([1, 3, 6, 9, 12, 18])\n",
        "Y = np.array([0.94, 0.77, 0.4, 0.26, 0.24, 0.16])\n",
        "data = np.array([T,Y])"
      ],
      "execution_count": 0,
      "outputs": []
    },
    {
      "cell_type": "code",
      "metadata": {
        "id": "mBnMAkhqUF8A",
        "colab_type": "code",
        "colab": {}
      },
      "source": [
        "# a simple function to do MLE and return parameters\n",
        "\n",
        "def fitPower(dat):\n",
        "  # extract X and T from the dat array\n",
        "  T = dat[0]\n",
        "  X = 100*dat[1]\n",
        "  \n",
        "  # computed nll\n",
        "  def nllP(pars):\n",
        "    a, b = pars\n",
        "    tmp1 = X*np.log(a*T**b)\n",
        "    tmp2 = (100-X)*np.log(1-a*T**b)\n",
        "    return(-1*np.sum(tmp1+tmp2))\n",
        "  \n",
        "  # minimize the nll\n",
        "  a_init = np.random.uniform()\n",
        "  b_init = -np.random.uniform()\n",
        "  inits = np.array([a_init, b_init])\n",
        "  \n",
        "  mleP = minimize(nllP,\n",
        "                 inits,\n",
        "                 method = \"nelder-mead\")\n",
        "  \n",
        "  # return fit object\n",
        "  return mleP.x[0], mleP.x[1]"
      ],
      "execution_count": 0,
      "outputs": []
    },
    {
      "cell_type": "code",
      "metadata": {
        "id": "O3PTJnfHUJlQ",
        "colab_type": "code",
        "outputId": "cdf7eee0-2510-4715-c10d-262245032383",
        "colab": {
          "base_uri": "https://localhost:8080/",
          "height": 71
        }
      },
      "source": [
        "# assign output to tuple (a,b)\n",
        "# this makes it easier to call specific parameters later\n",
        "\n",
        "a, b = fitPower(data)"
      ],
      "execution_count": 0,
      "outputs": [
        {
          "output_type": "stream",
          "text": [
            "/usr/local/lib/python3.6/dist-packages/ipykernel_launcher.py:10: RuntimeWarning: invalid value encountered in log\n",
            "  # Remove the CWD from sys.path while we load stuff.\n"
          ],
          "name": "stderr"
        }
      ]
    },
    {
      "cell_type": "code",
      "metadata": {
        "id": "0oT1ImsXUGow",
        "colab_type": "code",
        "outputId": "f6194ca5-a88c-479c-f5f8-ef5d943070e4",
        "colab": {
          "base_uri": "https://localhost:8080/",
          "height": 34
        }
      },
      "source": [
        "# bootstrapping requires us to be able to \n",
        "# generate vector of random draws from binomial distribution\n",
        "# where p is a power function of time T\n",
        "\n",
        "np.random.seed(737)\n",
        "np.random.binomial(n=100, p=a*T**b, size=len(T))"
      ],
      "execution_count": 0,
      "outputs": [
        {
          "output_type": "execute_result",
          "data": {
            "text/plain": [
              "array([96, 61, 37, 41, 25, 21])"
            ]
          },
          "metadata": {
            "tags": []
          },
          "execution_count": 16
        }
      ]
    },
    {
      "cell_type": "code",
      "metadata": {
        "id": "7cVYxL08ZHt_",
        "colab_type": "code",
        "colab": {}
      },
      "source": [
        "# we also need to be able to collect fitted values of a and b\n",
        "# as we go along.  The fastest way is with a Python list\n",
        "\n",
        "A = []\n",
        "for i in range(150):\n",
        "  A.append(i)"
      ],
      "execution_count": 0,
      "outputs": []
    },
    {
      "cell_type": "code",
      "metadata": {
        "id": "OEzgNFeuZklG",
        "colab_type": "code",
        "outputId": "1e613408-8f61-4056-f30d-debd43762c0f",
        "colab": {
          "base_uri": "https://localhost:8080/",
          "height": 51
        }
      },
      "source": [
        "# now, we do the bootstrapping\n",
        "\n",
        "# set number of bootstrap samples\n",
        "N = 1000\n",
        "\n",
        "# set seed for reproducibility\n",
        "np.random.seed(500)\n",
        "\n",
        "# obtain the original model fit\n",
        "a, b = fitPower(data)\n",
        "\n",
        "# set empty lists to store parameter values\n",
        "A = []\n",
        "B = []\n",
        "\n",
        "for i in range(N):\n",
        "  # generate new data\n",
        "  Xsim = np.random.binomial(n=100, p=a*T**b, size=len(T))\n",
        "  dataSim = np.array([T, Xsim/100])\n",
        "  \n",
        "  # find MLE for a,b\n",
        "  a_bootstrap, b_bootstrap = fitPower(dataSim)\n",
        "  \n",
        "  # append these estimates to A and B\n",
        "  A.append(a_bootstrap)\n",
        "  B.append(b_bootstrap)"
      ],
      "execution_count": 36,
      "outputs": [
        {
          "output_type": "stream",
          "text": [
            "/usr/local/lib/python3.6/dist-packages/ipykernel_launcher.py:11: RuntimeWarning: invalid value encountered in log\n",
            "  # This is added back by InteractiveShellApp.init_path()\n"
          ],
          "name": "stderr"
        }
      ]
    },
    {
      "cell_type": "code",
      "metadata": {
        "id": "MNgGTQPvT6ZZ",
        "colab_type": "code",
        "outputId": "fdc555fe-1ee5-4394-eeb7-829411712e86",
        "colab": {
          "base_uri": "https://localhost:8080/",
          "height": 521
        }
      },
      "source": [
        "# plot histograms of A and B\n",
        "\n",
        "import matplotlib.pyplot as plt\n",
        "import seaborn as sns\n",
        "sns.distplot(A)\n",
        "plt.show()\n",
        "\n",
        "sns.distplot(B)\n",
        "plt.show()"
      ],
      "execution_count": 37,
      "outputs": [
        {
          "output_type": "display_data",
          "data": {
            "image/png": "[encoded data removed]",
            "text/plain": [
              "<Figure size 432x288 with 1 Axes>"
            ]
          },
          "metadata": {
            "tags": []
          }
        },
        {
          "output_type": "display_data",
          "data": {
            "image/png": "[encoded data removed]",
            "text/plain": [
              "<Figure size 432x288 with 1 Axes>"
            ]
          },
          "metadata": {
            "tags": []
          }
        }
      ]
    },
    {
      "cell_type": "code",
      "metadata": {
        "id": "b3HRk6jTb6pn",
        "colab_type": "code",
        "outputId": "9732edb9-01ec-47e9-cf37-65a49e8ce6aa",
        "colab": {
          "base_uri": "https://localhost:8080/",
          "height": 51
        }
      },
      "source": [
        "# compute 95% confidence intervals for estimates a and b\n",
        "\n",
        "print(np.quantile(A, q=[0.025, 0.975])) \n",
        "print(np.quantile(B, q=[0.025, 0.975]))"
      ],
      "execution_count": 39,
      "outputs": [
        {
          "output_type": "stream",
          "text": [
            "[0.91026039 0.99020124]\n",
            "[-0.56463159 -0.44326388]\n"
          ],
          "name": "stdout"
        }
      ]
    }
  ]
}