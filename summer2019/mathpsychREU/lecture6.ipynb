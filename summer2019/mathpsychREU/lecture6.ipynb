{
  "nbformat": 4,
  "nbformat_minor": 0,
  "metadata": {
    "colab": {
      "name": "lecture6.ipynb",
      "version": "0.3.2",
      "provenance": [],
      "collapsed_sections": [],
      "include_colab_link": true
    },
    "kernelspec": {
      "name": "python3",
      "display_name": "Python 3"
    }
  },
  "cells": [
    {
      "cell_type": "markdown",
      "metadata": {
        "id": "view-in-github",
        "colab_type": "text"
      },
      "source": [
        "<a href=\"https://colab.research.google.com/github/tomfaulkenberry/courses/blob/master/summer2019/mathpsychREU/lecture6.ipynb\" target=\"_parent\"><img src=\"https://colab.research.google.com/assets/colab-badge.svg\" alt=\"Open In Colab\"/></a>"
      ]
    },
    {
      "cell_type": "code",
      "metadata": {
        "id": "nEdy00gUs2qk",
        "colab_type": "code",
        "colab": {}
      },
      "source": [
        "# lecture 6 -- modeling RT distributions\n",
        "\n",
        "import numpy as np\n",
        "import pandas as pd"
      ],
      "execution_count": 0,
      "outputs": []
    },
    {
      "cell_type": "code",
      "metadata": {
        "id": "khGyM_S2uPfM",
        "colab_type": "code",
        "outputId": "448a0f5d-07ab-470b-e63a-6b735c40cfba",
        "colab": {
          "base_uri": "https://localhost:8080/",
          "height": 34
        }
      },
      "source": [
        "dat = pd.read_csv('https://raw.githubusercontent.com/tomfaulkenberry/courses/master/summer2019/mathpsychREU/schwarz-A.csv')\n",
        "\n",
        "dat.head()\n",
        "dat.shape"
      ],
      "execution_count": 0,
      "outputs": [
        {
          "output_type": "execute_result",
          "data": {
            "text/plain": [
              "(2000, 3)"
            ]
          },
          "metadata": {
            "tags": []
          },
          "execution_count": 4
        }
      ]
    },
    {
      "cell_type": "code",
      "metadata": {
        "id": "WQkbUBpXuzqZ",
        "colab_type": "code",
        "outputId": "f78ebff3-28f1-479a-b95a-035f3c577342",
        "colab": {
          "base_uri": "https://localhost:8080/",
          "height": 269
        }
      },
      "source": [
        "# plot histogram of RTs\n",
        "import matplotlib.pyplot as plt\n",
        "\n",
        "plt.hist(dat.RT, bins=np.linspace(100,600,25))\n",
        "plt.show()"
      ],
      "execution_count": 0,
      "outputs": [
        {
          "output_type": "display_data",
          "data": {
            "image/png": "[encoded data removed]",
            "text/plain": [
              "<Figure size 432x288 with 1 Axes>"
            ]
          },
          "metadata": {
            "tags": []
          }
        }
      ]
    },
    {
      "cell_type": "code",
      "metadata": {
        "id": "UKxEvN5LvxkB",
        "colab_type": "code",
        "colab": {}
      },
      "source": [
        "# what if we just model with normal curve?\n",
        "# first, lets define normal density\n",
        "\n",
        "def normPDF(t, mu, sigma):\n",
        "  return(1/(sigma*np.sqrt(2*np.pi))*np.exp(-1*(t-mu)**2/(2*sigma**2)))\n",
        "\n",
        "\n"
      ],
      "execution_count": 0,
      "outputs": []
    },
    {
      "cell_type": "code",
      "metadata": {
        "id": "pPI4UaECyHxh",
        "colab_type": "code",
        "outputId": "daf553f9-007b-4c2a-c27a-d51d23ad1786",
        "colab": {
          "base_uri": "https://localhost:8080/",
          "height": 269
        }
      },
      "source": [
        "# plot normal density\n",
        "\n",
        "T = np.linspace(100, 600, 200)\n",
        "plt.plot(T, normPDF(T, mu=300, sigma=50))\n",
        "plt.show()"
      ],
      "execution_count": 0,
      "outputs": [
        {
          "output_type": "display_data",
          "data": {
            "image/png": "[encoded data removed]",
            "text/plain": [
              "<Figure size 432x288 with 1 Axes>"
            ]
          },
          "metadata": {
            "tags": []
          }
        }
      ]
    },
    {
      "cell_type": "code",
      "metadata": {
        "id": "13p_Li3EyuWA",
        "colab_type": "code",
        "outputId": "9d6bbc6f-91a0-4ef3-a05c-2ca73d9b1397",
        "colab": {
          "base_uri": "https://localhost:8080/",
          "height": 269
        }
      },
      "source": [
        "# we can also just use the \"norm\" function\n",
        "# from scipy.stats\n",
        "\n",
        "from scipy.stats import norm\n",
        "\n",
        "plt.plot(T, norm.pdf(T, loc=300, scale=50))\n",
        "plt.show()"
      ],
      "execution_count": 0,
      "outputs": [
        {
          "output_type": "display_data",
          "data": {
            "image/png": "[encoded data removed]",
            "text/plain": [
              "<Figure size 432x288 with 1 Axes>"
            ]
          },
          "metadata": {
            "tags": []
          }
        }
      ]
    },
    {
      "cell_type": "code",
      "metadata": {
        "id": "fekfaMED0lPp",
        "colab_type": "code",
        "colab": {}
      },
      "source": [
        "# construct NLL for normal\n",
        "\n",
        "X = dat.RT\n",
        "\n",
        "def nllNormal(pars):\n",
        "  mu, sigma = pars\n",
        "  ll = np.log(norm.pdf(X, loc=mu, scale=sigma))\n",
        "  return(-1*np.sum(ll))"
      ],
      "execution_count": 0,
      "outputs": []
    },
    {
      "cell_type": "code",
      "metadata": {
        "id": "02EawKWX1gQA",
        "colab_type": "code",
        "outputId": "e57ec6b0-5d72-4964-c9f5-a0dcb70fe3ae",
        "colab": {
          "base_uri": "https://localhost:8080/",
          "height": 188
        }
      },
      "source": [
        "# minimize log likelihood\n",
        "\n",
        "from scipy.optimize import minimize\n",
        "\n",
        "mu_init = X.mean()\n",
        "sigma_init = X.std()\n",
        "\n",
        "inits = np.array([mu_init, sigma_init])\n",
        "\n",
        "mle = minimize(fun = nllNormal,\n",
        "              x0 = inits,\n",
        "              method = 'nelder-mead')\n",
        "\n",
        "print(mle)"
      ],
      "execution_count": 0,
      "outputs": [
        {
          "output_type": "stream",
          "text": [
            " final_simplex: (array([[325.7315313 ,  59.83738598],\n",
            "       [325.73146063,  59.83741368],\n",
            "       [325.73151605,  59.83747224]]), array([11021.1388248, 11021.1388248, 11021.1388248]))\n",
            "           fun: 11021.138824797794\n",
            "       message: 'Optimization terminated successfully.'\n",
            "          nfev: 74\n",
            "           nit: 38\n",
            "        status: 0\n",
            "       success: True\n",
            "             x: array([325.7315313 ,  59.83738598])\n"
          ],
          "name": "stdout"
        }
      ]
    },
    {
      "cell_type": "code",
      "metadata": {
        "id": "xFVYH0WQ2oog",
        "colab_type": "code",
        "outputId": "c7770f28-0b59-40d1-d6e3-e869c1e5d9a4",
        "colab": {
          "base_uri": "https://localhost:8080/",
          "height": 269
        }
      },
      "source": [
        "plt.hist(X, bins=np.linspace(100,600,25), density=True)\n",
        "\n",
        "# extract fit and plot it as well\n",
        "mu, sigma = mle.x\n",
        "\n",
        "plt.plot(T, norm.pdf(T, loc=mu, scale=sigma))\n",
        "\n",
        "plt.show()"
      ],
      "execution_count": 0,
      "outputs": [
        {
          "output_type": "display_data",
          "data": {
            "image/png": "[encoded data removed]",
            "text/plain": [
              "<Figure size 432x288 with 1 Axes>"
            ]
          },
          "metadata": {
            "tags": []
          }
        }
      ]
    },
    {
      "cell_type": "code",
      "metadata": {
        "id": "gmdeYaMT9SNB",
        "colab_type": "code",
        "colab": {}
      },
      "source": [
        "# note: this misses the mark in several places\n",
        "# there's got to be a better way!"
      ],
      "execution_count": 0,
      "outputs": []
    }
  ]
}