{
  "nbformat": 4,
  "nbformat_minor": 0,
  "metadata": {
    "colab": {
      "name": "lecture1.ipynb",
      "version": "0.3.2",
      "provenance": [],
      "collapsed_sections": [],
      "include_colab_link": true
    },
    "kernelspec": {
      "name": "python3",
      "display_name": "Python 3"
    }
  },
  "cells": [
    {
      "cell_type": "markdown",
      "metadata": {
        "id": "view-in-github",
        "colab_type": "text"
      },
      "source": [
        "<a href=\"https://colab.research.google.com/github/tomfaulkenberry/courses/blob/master/summer2019/mathpsych/lecture1.ipynb\" target=\"_parent\"><img src=\"https://colab.research.google.com/assets/colab-badge.svg\" alt=\"Open In Colab\"/></a>"
      ]
    },
    {
      "cell_type": "code",
      "metadata": {
        "id": "6HlS9agjrypv",
        "colab_type": "code",
        "colab": {}
      },
      "source": [
        "import numpy as np\n",
        "import pandas as pd\n",
        "from scipy.stats import binom\n",
        "import matplotlib.pyplot as plt\n",
        "%matplotlib inline\n"
      ],
      "execution_count": 0,
      "outputs": []
    },
    {
      "cell_type": "code",
      "metadata": {
        "id": "T_DAIuDTDBya",
        "colab_type": "code",
        "outputId": "c76c1e70-ec8e-4ff0-f8cb-69addf3aa459",
        "colab": {
          "base_uri": "https://localhost:8080/",
          "height": 204
        }
      },
      "source": [
        "rawdata = pd.read_csv('https://raw.githubusercontent.com/tomfaulkenberry/physNumComparisonTask/master/results/processed.csv')\n",
        "data = rawdata.query('response_time < 2000')\n",
        "data.head()"
      ],
      "execution_count": 2,
      "outputs": [
        {
          "output_type": "execute_result",
          "data": {
            "text/html": [
              "<div>\n",
              "<style scoped>\n",
              "    .dataframe tbody tr th:only-of-type {\n",
              "        vertical-align: middle;\n",
              "    }\n",
              "\n",
              "    .dataframe tbody tr th {\n",
              "        vertical-align: top;\n",
              "    }\n",
              "\n",
              "    .dataframe thead th {\n",
              "        text-align: right;\n",
              "    }\n",
              "</style>\n",
              "<table border=\"1\" class=\"dataframe\">\n",
              "  <thead>\n",
              "    <tr style=\"text-align: right;\">\n",
              "      <th></th>\n",
              "      <th>congruity</th>\n",
              "      <th>correct</th>\n",
              "      <th>distance</th>\n",
              "      <th>leftStimulus</th>\n",
              "      <th>response</th>\n",
              "      <th>response_time</th>\n",
              "      <th>rightStimulus</th>\n",
              "      <th>subject_nr</th>\n",
              "    </tr>\n",
              "  </thead>\n",
              "  <tbody>\n",
              "    <tr>\n",
              "      <th>0</th>\n",
              "      <td>incongruent</td>\n",
              "      <td>1</td>\n",
              "      <td>3</td>\n",
              "      <td>5</td>\n",
              "      <td>l</td>\n",
              "      <td>763</td>\n",
              "      <td>2</td>\n",
              "      <td>101</td>\n",
              "    </tr>\n",
              "    <tr>\n",
              "      <th>1</th>\n",
              "      <td>congruent</td>\n",
              "      <td>1</td>\n",
              "      <td>1</td>\n",
              "      <td>2</td>\n",
              "      <td>l</td>\n",
              "      <td>650</td>\n",
              "      <td>3</td>\n",
              "      <td>101</td>\n",
              "    </tr>\n",
              "    <tr>\n",
              "      <th>2</th>\n",
              "      <td>incongruent</td>\n",
              "      <td>1</td>\n",
              "      <td>4</td>\n",
              "      <td>7</td>\n",
              "      <td>l</td>\n",
              "      <td>654</td>\n",
              "      <td>3</td>\n",
              "      <td>101</td>\n",
              "    </tr>\n",
              "    <tr>\n",
              "      <th>3</th>\n",
              "      <td>congruent</td>\n",
              "      <td>1</td>\n",
              "      <td>4</td>\n",
              "      <td>3</td>\n",
              "      <td>l</td>\n",
              "      <td>488</td>\n",
              "      <td>7</td>\n",
              "      <td>101</td>\n",
              "    </tr>\n",
              "    <tr>\n",
              "      <th>4</th>\n",
              "      <td>congruent</td>\n",
              "      <td>1</td>\n",
              "      <td>3</td>\n",
              "      <td>4</td>\n",
              "      <td>l</td>\n",
              "      <td>438</td>\n",
              "      <td>7</td>\n",
              "      <td>101</td>\n",
              "    </tr>\n",
              "  </tbody>\n",
              "</table>\n",
              "</div>"
            ],
            "text/plain": [
              "     congruity  correct  distance  ...  response_time rightStimulus  subject_nr\n",
              "0  incongruent        1         3  ...            763             2         101\n",
              "1    congruent        1         1  ...            650             3         101\n",
              "2  incongruent        1         4  ...            654             3         101\n",
              "3    congruent        1         4  ...            488             7         101\n",
              "4    congruent        1         3  ...            438             7         101\n",
              "\n",
              "[5 rows x 8 columns]"
            ]
          },
          "metadata": {
            "tags": []
          },
          "execution_count": 2
        }
      ]
    },
    {
      "cell_type": "code",
      "metadata": {
        "id": "QJJoO-2cDw0E",
        "colab_type": "code",
        "outputId": "ee7a420c-550b-4d10-862b-f14513bd9ac1",
        "colab": {
          "base_uri": "https://localhost:8080/",
          "height": 287
        }
      },
      "source": [
        "fig, ax = plt.subplots()\n",
        "\n",
        "ax.hist(data.response_time[data.congruity=='congruent'], bins=30, color='blue', edgecolor='black', label='Congruent trials')\n",
        "ax.hist(data.response_time[data.congruity=='incongruent'], bins=30, color='white', edgecolor='black', alpha=0.8, label='Incongruent trials')\n",
        "\n",
        "ax.set_xlabel('Response time (ms)', fontsize=14)\n",
        "ax.legend()\n",
        "\n",
        "plt.show()"
      ],
      "execution_count": 10,
      "outputs": [
        {
          "output_type": "display_data",
          "data": {
            "image/png": "[encoded data removed]",
            "text/plain": [
              "<Figure size 432x288 with 1 Axes>"
            ]
          },
          "metadata": {
            "tags": []
          }
        }
      ]
    },
    {
      "cell_type": "code",
      "metadata": {
        "id": "9DBQplqeGDQq",
        "colab_type": "code",
        "colab": {}
      },
      "source": [
        ""
      ],
      "execution_count": 0,
      "outputs": []
    },
    {
      "cell_type": "code",
      "metadata": {
        "id": "q5Lz0g1msR66",
        "colab_type": "code",
        "outputId": "8073da9d-e00d-4f76-9b0f-aeeb13326674",
        "colab": {
          "base_uri": "https://localhost:8080/",
          "height": 34
        }
      },
      "source": [
        "binom.pmf(3, 10, 0.2)"
      ],
      "execution_count": 0,
      "outputs": [
        {
          "output_type": "execute_result",
          "data": {
            "text/plain": [
              "0.20132659200000022"
            ]
          },
          "metadata": {
            "tags": []
          },
          "execution_count": 27
        }
      ]
    },
    {
      "cell_type": "code",
      "metadata": {
        "id": "nRxazvCDseIB",
        "colab_type": "code",
        "outputId": "494f3857-36d2-4fa2-dc36-3da75e07c09c",
        "colab": {
          "base_uri": "https://localhost:8080/",
          "height": 288
        }
      },
      "source": [
        "fig, ax = plt.subplots()\n",
        "\n",
        "Y = np.arange(0,10)\n",
        "P = binom.pmf(Y, 10, 0.2)\n",
        "\n",
        "ax.bar(Y,P)\n",
        "\n",
        "ax.set_xlabel('$y$', fontsize=14)\n",
        "ax.set_ylabel('$p(y\\mid \\\\theta=0.2)$', fontsize=14)\n",
        "\n",
        "plt.show()"
      ],
      "execution_count": 0,
      "outputs": [
        {
          "output_type": "display_data",
          "data": {
            "image/png": "[encoded data removed]",
            "text/plain": [
              "<Figure size 432x288 with 1 Axes>"
            ]
          },
          "metadata": {
            "tags": []
          }
        }
      ]
    },
    {
      "cell_type": "code",
      "metadata": {
        "id": "e3_7vjpRVLFz",
        "colab_type": "code",
        "outputId": "90f9df8c-70d2-42c7-8cfe-12890decb2b8",
        "colab": {
          "base_uri": "https://localhost:8080/",
          "height": 288
        }
      },
      "source": [
        "fig, ax = plt.subplots()\n",
        "\n",
        "Y = np.arange(0,10)\n",
        "P = binom.pmf(Y, 10, 0.7)\n",
        "\n",
        "ax.bar(Y,P)\n",
        "\n",
        "ax.set_xlabel('$y$', fontsize=14)\n",
        "ax.set_ylabel('$p(y\\mid \\\\theta=0.7)$', fontsize=14)\n",
        "\n",
        "plt.show()"
      ],
      "execution_count": 0,
      "outputs": [
        {
          "output_type": "display_data",
          "data": {
            "image/png": "[encoded data removed]",
            "text/plain": [
              "<Figure size 432x288 with 1 Axes>"
            ]
          },
          "metadata": {
            "tags": []
          }
        }
      ]
    },
    {
      "cell_type": "code",
      "metadata": {
        "id": "ZfXhWOjhFjR6",
        "colab_type": "code",
        "outputId": "2ab99745-0dda-4c3f-82a7-16c4ee39c725",
        "colab": {
          "base_uri": "https://localhost:8080/",
          "height": 342
        }
      },
      "source": [
        "def L(x):\n",
        "  return(binom.pmf(7, 10, x))\n",
        "\n",
        "fig, ax = plt.subplots(figsize=(8,5))\n",
        "Theta = np.linspace(0,1,100)\n",
        "\n",
        "ax.plot(Theta, L(Theta))\n",
        "\n",
        "ax.set_xlabel('$\\\\theta$', fontsize=14)\n",
        "ax.set_ylabel('$L(\\\\theta \\mid y=7)$', fontsize=14)\n",
        "\n",
        "plt.show()"
      ],
      "execution_count": 0,
      "outputs": [
        {
          "output_type": "display_data",
          "data": {
            "image/png": "[encoded data removed]",
            "text/plain": [
              "<Figure size 576x360 with 1 Axes>"
            ]
          },
          "metadata": {
            "tags": []
          }
        }
      ]
    }
  ]
}